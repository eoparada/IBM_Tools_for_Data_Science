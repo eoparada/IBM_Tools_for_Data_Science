{
 "cells": [
  {
   "cell_type": "markdown",
   "id": "ad060f07",
   "metadata": {},
   "source": [
    "# Data Science Tools and Ecosystem"
   ]
  },
  {
   "cell_type": "markdown",
   "id": "9da075b9",
   "metadata": {},
   "source": [
    "In this notebook, Data Science Tools and Ecosystem are summarized."
   ]
  },
  {
   "cell_type": "markdown",
   "id": "720decdc",
   "metadata": {},
   "source": [
    "__Objectives:__\n",
    "* List popular languages for Data Science\n",
    "* List commonly used libraries by Data Scienctists\n",
    "* Common Data Science tools\n",
    "* Evaluating arithmetic expressions in Python\n",
    "* Converting minutes to hours"
   ]
  },
  {
   "cell_type": "markdown",
   "id": "c056e3f2",
   "metadata": {},
   "source": [
    "Some of the popular languages that Data Scientists use are:\n",
    "1. Python\n",
    "2. R\n",
    "3. C++\n",
    "4. Julia"
   ]
  },
  {
   "cell_type": "markdown",
   "id": "2980a9d5",
   "metadata": {},
   "source": [
    "Some of the commonly used libraries used by Data Scientists include:\n",
    "1. Numpy\n",
    "2. Pandas\n",
    "3. SciPy\n",
    "4. Matplotlib\n",
    "5. ggplot"
   ]
  },
  {
   "cell_type": "markdown",
   "id": "a95c585a",
   "metadata": {},
   "source": [
    "|Data Science Tools|\n",
    "-----------------------------\n",
    "|Jupyter Notebook|\n",
    "|Jupyter Lab|\n",
    "|RStudio|"
   ]
  },
  {
   "cell_type": "markdown",
   "id": "278b5d72",
   "metadata": {},
   "source": [
    "### Below are a few examples of evaluating arithmetic expressions in Python"
   ]
  },
  {
   "cell_type": "code",
   "execution_count": 1,
   "id": "cde03928",
   "metadata": {},
   "outputs": [
    {
     "data": {
      "text/plain": [
       "17"
      ]
     },
     "execution_count": 1,
     "metadata": {},
     "output_type": "execute_result"
    }
   ],
   "source": [
    "# This a simple arithmetic expression to mutiply then add integers\n",
    "\n",
    "(3*4)+5"
   ]
  },
  {
   "cell_type": "code",
   "execution_count": 4,
   "id": "1889f78b",
   "metadata": {},
   "outputs": [
    {
     "name": "stdout",
     "output_type": "stream",
     "text": [
      "200 minutes is equivalent to 3.33 hours.\n"
     ]
    }
   ],
   "source": [
    "# This will convert 200 minutes to hours by diving by 60\n",
    "\n",
    "def minutes_to_hours(minutes):\n",
    "    hours = minutes / 60\n",
    "    \n",
    "    #print(f\"{minutes} minutes is equivalent to \".format )\n",
    "    print('%d minutes is equivalent to %.2f hours.' % (minutes, hours))\n",
    "\n",
    "minutes_to_hours(200)"
   ]
  },
  {
   "cell_type": "markdown",
   "id": "e041272a",
   "metadata": {},
   "source": [
    "\n",
    "## Author\n",
    "Elmer O. Parada"
   ]
  }
 ],
 "metadata": {
  "kernelspec": {
   "display_name": "Python 3 (ipykernel)",
   "language": "python",
   "name": "python3"
  },
  "language_info": {
   "codemirror_mode": {
    "name": "ipython",
    "version": 3
   },
   "file_extension": ".py",
   "mimetype": "text/x-python",
   "name": "python",
   "nbconvert_exporter": "python",
   "pygments_lexer": "ipython3",
   "version": "3.9.17"
  }
 },
 "nbformat": 4,
 "nbformat_minor": 5
}
